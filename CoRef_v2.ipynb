{
 "cells": [
  {
   "cell_type": "markdown",
   "source": [
    "# Using spaCy"
   ],
   "metadata": {
    "collapsed": false
   }
  },
  {
   "cell_type": "code",
   "execution_count": 9,
   "outputs": [],
   "source": [
    "import spacy"
   ],
   "metadata": {
    "collapsed": false,
    "ExecuteTime": {
     "end_time": "2024-02-04T16:43:47.501799400Z",
     "start_time": "2024-02-04T16:43:47.494088700Z"
    }
   }
  },
  {
   "cell_type": "code",
   "execution_count": 11,
   "outputs": [
    {
     "ename": "ValueError",
     "evalue": "[E889] Can't replace 'transformer' listeners of component 'coref' because 'coref' is not in the pipeline. Available components: transformer, tagger, parser, attribute_ruler, lemmatizer, ner. If you didn't call nlp.replace_listeners manually, this is likely a bug in spaCy.",
     "output_type": "error",
     "traceback": [
      "\u001B[1;31m---------------------------------------------------------------------------\u001B[0m",
      "\u001B[1;31mValueError\u001B[0m                                Traceback (most recent call last)",
      "Cell \u001B[1;32mIn[11], line 5\u001B[0m\n\u001B[0;32m      2\u001B[0m nlp_coref \u001B[38;5;241m=\u001B[39m spacy\u001B[38;5;241m.\u001B[39mload(\u001B[38;5;124m\"\u001B[39m\u001B[38;5;124men_core_web_trf\u001B[39m\u001B[38;5;124m\"\u001B[39m)\n\u001B[0;32m      4\u001B[0m \u001B[38;5;66;03m# use replace_listeners for the coref components\u001B[39;00m\n\u001B[1;32m----> 5\u001B[0m \u001B[43mnlp_coref\u001B[49m\u001B[38;5;241;43m.\u001B[39;49m\u001B[43mreplace_listeners\u001B[49m\u001B[43m(\u001B[49m\u001B[38;5;124;43m\"\u001B[39;49m\u001B[38;5;124;43mtransformer\u001B[39;49m\u001B[38;5;124;43m\"\u001B[39;49m\u001B[43m,\u001B[49m\u001B[43m \u001B[49m\u001B[38;5;124;43m\"\u001B[39;49m\u001B[38;5;124;43mcoref\u001B[39;49m\u001B[38;5;124;43m\"\u001B[39;49m\u001B[43m,\u001B[49m\u001B[43m \u001B[49m\u001B[43m[\u001B[49m\u001B[38;5;124;43m\"\u001B[39;49m\u001B[38;5;124;43mmodel.tok2vec\u001B[39;49m\u001B[38;5;124;43m\"\u001B[39;49m\u001B[43m]\u001B[49m\u001B[43m)\u001B[49m\n\u001B[0;32m      6\u001B[0m nlp_coref\u001B[38;5;241m.\u001B[39mreplace_listeners(\u001B[38;5;124m\"\u001B[39m\u001B[38;5;124mtransformer\u001B[39m\u001B[38;5;124m\"\u001B[39m, \u001B[38;5;124m\"\u001B[39m\u001B[38;5;124mspan_resolver\u001B[39m\u001B[38;5;124m\"\u001B[39m, [\u001B[38;5;124m\"\u001B[39m\u001B[38;5;124mmodel.tok2vec\u001B[39m\u001B[38;5;124m\"\u001B[39m])\n\u001B[0;32m      8\u001B[0m \u001B[38;5;66;03m# we won't copy over the span cleaner\u001B[39;00m\n",
      "File \u001B[1;32mC:\\Program Files(x86)\\Python311\\Lib\\site-packages\\spacy\\language.py:2009\u001B[0m, in \u001B[0;36mLanguage.replace_listeners\u001B[1;34m(self, tok2vec_name, pipe_name, listeners)\u001B[0m\n\u001B[0;32m   2002\u001B[0m \u001B[38;5;28;01mif\u001B[39;00m pipe_name \u001B[38;5;129;01mnot\u001B[39;00m \u001B[38;5;129;01min\u001B[39;00m \u001B[38;5;28mself\u001B[39m\u001B[38;5;241m.\u001B[39mpipe_names:\n\u001B[0;32m   2003\u001B[0m     err \u001B[38;5;241m=\u001B[39m Errors\u001B[38;5;241m.\u001B[39mE889\u001B[38;5;241m.\u001B[39mformat(\n\u001B[0;32m   2004\u001B[0m         tok2vec\u001B[38;5;241m=\u001B[39mtok2vec_name,\n\u001B[0;32m   2005\u001B[0m         name\u001B[38;5;241m=\u001B[39mpipe_name,\n\u001B[0;32m   2006\u001B[0m         unknown\u001B[38;5;241m=\u001B[39mpipe_name,\n\u001B[0;32m   2007\u001B[0m         opts\u001B[38;5;241m=\u001B[39m\u001B[38;5;124m\"\u001B[39m\u001B[38;5;124m, \u001B[39m\u001B[38;5;124m\"\u001B[39m\u001B[38;5;241m.\u001B[39mjoin(\u001B[38;5;28mself\u001B[39m\u001B[38;5;241m.\u001B[39mpipe_names),\n\u001B[0;32m   2008\u001B[0m     )\n\u001B[1;32m-> 2009\u001B[0m     \u001B[38;5;28;01mraise\u001B[39;00m \u001B[38;5;167;01mValueError\u001B[39;00m(err)\n\u001B[0;32m   2010\u001B[0m tok2vec \u001B[38;5;241m=\u001B[39m \u001B[38;5;28mself\u001B[39m\u001B[38;5;241m.\u001B[39mget_pipe(tok2vec_name)\n\u001B[0;32m   2011\u001B[0m tok2vec_cfg \u001B[38;5;241m=\u001B[39m \u001B[38;5;28mself\u001B[39m\u001B[38;5;241m.\u001B[39mget_pipe_config(tok2vec_name)\n",
      "\u001B[1;31mValueError\u001B[0m: [E889] Can't replace 'transformer' listeners of component 'coref' because 'coref' is not in the pipeline. Available components: transformer, tagger, parser, attribute_ruler, lemmatizer, ner. If you didn't call nlp.replace_listeners manually, this is likely a bug in spaCy."
     ]
    }
   ],
   "source": [
    "nlp = spacy.load(\"en_core_web_sm\")\n",
    "nlp_coref = spacy.load(\"en_core_web_trf\")\n",
    "\n",
    "# use replace_listeners for the coref components\n",
    "nlp_coref.replace_listeners(\"transformer\", \"coref\", [\"model.tok2vec\"])\n",
    "nlp_coref.replace_listeners(\"transformer\", \"span_resolver\", [\"model.tok2vec\"])\n",
    "\n",
    "# we won't copy over the span cleaner\n",
    "nlp.add_pipe(\"coref\", source=nlp_coref)\n",
    "nlp.add_pipe(\"span_resolver\", source=nlp_coref)\n",
    "\n",
    "doc = nlp(\"The cats were startled by the dog as it growled at them.\")\n",
    "\n",
    "print(doc.spans)"
   ],
   "metadata": {
    "collapsed": false,
    "ExecuteTime": {
     "end_time": "2024-02-04T16:46:53.329866400Z",
     "start_time": "2024-02-04T16:46:50.677070800Z"
    }
   }
  }
 ],
 "metadata": {
  "kernelspec": {
   "display_name": "Python 3",
   "language": "python",
   "name": "python3"
  },
  "language_info": {
   "codemirror_mode": {
    "name": "ipython",
    "version": 2
   },
   "file_extension": ".py",
   "mimetype": "text/x-python",
   "name": "python",
   "nbconvert_exporter": "python",
   "pygments_lexer": "ipython2",
   "version": "2.7.6"
  }
 },
 "nbformat": 4,
 "nbformat_minor": 0
}
