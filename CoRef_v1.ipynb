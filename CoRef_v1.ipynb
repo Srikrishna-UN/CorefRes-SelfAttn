{
 "cells": [
  {
   "cell_type": "code",
   "execution_count": 6,
   "metadata": {
    "ExecuteTime": {
     "end_time": "2024-02-01T16:52:15.340568400Z",
     "start_time": "2024-02-01T16:52:15.282583900Z"
    },
    "tags": []
   },
   "outputs": [],
   "source": [
    "import tensorflow as tf\n",
    "from tensorflow.keras import layers,Sequential"
   ]
  },
  {
   "cell_type": "code",
   "execution_count": null,
   "metadata": {},
   "outputs": [],
   "source": [
    "model = tf.keras.Sequential(\n",
    "    layers.Embedding(input_dim=1000,output_dim=64),\n",
    "    layers.LSTM(128),\n",
    "    layers.Dense(2,activation='softmax')\n",
    ")"
   ]
  },
  {
   "cell_type": "code",
   "execution_count": 7,
   "metadata": {},
   "outputs": [
    {
     "name": "stderr",
     "output_type": "stream",
     "text": [
      "[nltk_data] Downloading package punkt to C:\\Users\\Srikrishna U\n",
      "[nltk_data]     N\\AppData\\Roaming\\nltk_data...\n",
      "[nltk_data]   Unzipping tokenizers\\punkt.zip.\n",
      "[nltk_data] Downloading package conll2000 to C:\\Users\\Srikrishna U\n",
      "[nltk_data]     N\\AppData\\Roaming\\nltk_data...\n",
      "[nltk_data]   Unzipping corpora\\conll2000.zip.\n"
     ]
    },
    {
     "ename": "NameError",
     "evalue": "name 'tree2conlltags' is not defined",
     "output_type": "error",
     "traceback": [
      "\u001b[1;31m---------------------------------------------------------------------------\u001b[0m",
      "\u001b[1;31mNameError\u001b[0m                                 Traceback (most recent call last)",
      "\u001b[1;32m~\\AppData\\Local\\Temp\\ipykernel_10160\\3823047358.py\u001b[0m in \u001b[0;36m<module>\u001b[1;34m\u001b[0m\n\u001b[0;32m     70\u001b[0m \u001b[1;33m\u001b[0m\u001b[0m\n\u001b[0;32m     71\u001b[0m \u001b[1;31m# Load and preprocess data\u001b[0m\u001b[1;33m\u001b[0m\u001b[1;33m\u001b[0m\u001b[0m\n\u001b[1;32m---> 72\u001b[1;33m \u001b[0msentences\u001b[0m\u001b[1;33m,\u001b[0m \u001b[0mlabels\u001b[0m \u001b[1;33m=\u001b[0m \u001b[0mload_conll_data\u001b[0m\u001b[1;33m(\u001b[0m\u001b[1;33m)\u001b[0m\u001b[1;33m\u001b[0m\u001b[1;33m\u001b[0m\u001b[0m\n\u001b[0m\u001b[0;32m     73\u001b[0m \u001b[0mtokenized_sentences\u001b[0m\u001b[1;33m,\u001b[0m \u001b[0mencoded_pos_tags\u001b[0m\u001b[1;33m,\u001b[0m \u001b[0mone_hot_labels\u001b[0m \u001b[1;33m=\u001b[0m \u001b[0mpreprocess_data\u001b[0m\u001b[1;33m(\u001b[0m\u001b[0msentences\u001b[0m\u001b[1;33m,\u001b[0m \u001b[0mlabels\u001b[0m\u001b[1;33m)\u001b[0m\u001b[1;33m\u001b[0m\u001b[1;33m\u001b[0m\u001b[0m\n\u001b[0;32m     74\u001b[0m \u001b[1;33m\u001b[0m\u001b[0m\n",
      "\u001b[1;32m~\\AppData\\Local\\Temp\\ipykernel_10160\\3823047358.py\u001b[0m in \u001b[0;36mload_conll_data\u001b[1;34m()\u001b[0m\n\u001b[0;32m     22\u001b[0m     \u001b[0mlabels\u001b[0m \u001b[1;33m=\u001b[0m \u001b[1;33m[\u001b[0m\u001b[1;33m]\u001b[0m\u001b[1;33m\u001b[0m\u001b[1;33m\u001b[0m\u001b[0m\n\u001b[0;32m     23\u001b[0m     \u001b[1;32mfor\u001b[0m \u001b[0msentence\u001b[0m \u001b[1;32min\u001b[0m \u001b[0mdataset\u001b[0m\u001b[1;33m:\u001b[0m\u001b[1;33m\u001b[0m\u001b[1;33m\u001b[0m\u001b[0m\n\u001b[1;32m---> 24\u001b[1;33m         \u001b[0mwords\u001b[0m\u001b[1;33m,\u001b[0m \u001b[0mtags\u001b[0m \u001b[1;33m=\u001b[0m \u001b[0mzip\u001b[0m\u001b[1;33m(\u001b[0m\u001b[1;33m*\u001b[0m\u001b[1;33m[\u001b[0m\u001b[1;33m(\u001b[0m\u001b[0mword\u001b[0m\u001b[1;33m,\u001b[0m \u001b[0mtag\u001b[0m\u001b[1;33m)\u001b[0m \u001b[1;32mfor\u001b[0m \u001b[0mword\u001b[0m\u001b[1;33m,\u001b[0m \u001b[0mtag\u001b[0m \u001b[1;32min\u001b[0m \u001b[0mtree2conlltags\u001b[0m\u001b[1;33m(\u001b[0m\u001b[0msentence\u001b[0m\u001b[1;33m)\u001b[0m\u001b[1;33m]\u001b[0m\u001b[1;33m)\u001b[0m\u001b[1;33m\u001b[0m\u001b[1;33m\u001b[0m\u001b[0m\n\u001b[0m\u001b[0;32m     25\u001b[0m         \u001b[0msentences\u001b[0m\u001b[1;33m.\u001b[0m\u001b[0mappend\u001b[0m\u001b[1;33m(\u001b[0m\u001b[1;34m\" \"\u001b[0m\u001b[1;33m.\u001b[0m\u001b[0mjoin\u001b[0m\u001b[1;33m(\u001b[0m\u001b[0mwords\u001b[0m\u001b[1;33m)\u001b[0m\u001b[1;33m)\u001b[0m\u001b[1;33m\u001b[0m\u001b[1;33m\u001b[0m\u001b[0m\n\u001b[0;32m     26\u001b[0m         \u001b[0mlabels\u001b[0m\u001b[1;33m.\u001b[0m\u001b[0mappend\u001b[0m\u001b[1;33m(\u001b[0m\u001b[0mlist\u001b[0m\u001b[1;33m(\u001b[0m\u001b[0mtags\u001b[0m\u001b[1;33m)\u001b[0m\u001b[1;33m)\u001b[0m\u001b[1;33m\u001b[0m\u001b[1;33m\u001b[0m\u001b[0m\n",
      "\u001b[1;31mNameError\u001b[0m: name 'tree2conlltags' is not defined"
     ]
    }
   ],
   "source": [
    "import tensorflow as tf\n",
    "from tensorflow.keras import layers\n",
    "from sklearn.model_selection import train_test_split\n",
    "from sklearn.preprocessing import LabelEncoder\n",
    "from tensorflow.keras.utils import to_categorical\n",
    "from nltk.tokenize import word_tokenize\n",
    "from nltk import pos_tag\n",
    "from nltk.corpus import conll2000\n",
    "\n",
    "# Download NLTK resources (if not already downloaded)\n",
    "import nltk\n",
    "nltk.download('punkt')\n",
    "nltk.download('conll2000')\n",
    "\n",
    "# Load CoNLL-2012 Shared Task dataset (this is just an example, use your dataset)\n",
    "def load_conll_data():\n",
    "    # Load the CoNLL-2012 Shared Task dataset\n",
    "    dataset = conll2000.chunked_sents()\n",
    "\n",
    "    # Preprocess the data (convert to features and labels)\n",
    "    sentences = []\n",
    "    labels = []\n",
    "    for sentence in dataset:\n",
    "        words, tags = zip(*[(word, tag) for word, tag in tree2conlltags(sentence)])\n",
    "        sentences.append(\" \".join(words))\n",
    "        labels.append(list(tags))\n",
    "\n",
    "    return sentences, labels\n",
    "\n",
    "# Tokenize and preprocess text data\n",
    "def preprocess_data(sentences, labels):\n",
    "    tokenized_sentences = [word_tokenize(sentence) for sentence in sentences]\n",
    "    pos_tags = [pos_tag(sentence) for sentence in tokenized_sentences]\n",
    "    \n",
    "    # Encode POS tags using LabelEncoder\n",
    "    pos_encoder = LabelEncoder()\n",
    "    encoded_pos_tags = [pos_encoder.fit_transform([tag for _, tag in pos_sentence]) for pos_sentence in pos_tags]\n",
    "    \n",
    "    # Flatten the labels (assuming you have a binary classification task)\n",
    "    flat_labels = [label for sublist in labels for label in sublist]\n",
    "    \n",
    "    # Encode labels using LabelEncoder\n",
    "    label_encoder = LabelEncoder()\n",
    "    encoded_labels = label_encoder.fit_transform(flat_labels)\n",
    "    one_hot_labels = to_categorical(encoded_labels)\n",
    "\n",
    "    return tokenized_sentences, encoded_pos_tags, one_hot_labels\n",
    "\n",
    "# Split the data into training and testing sets\n",
    "def split_data(sentences, pos_tags, labels):\n",
    "    X_train, X_test, pos_train, pos_test, y_train, y_test = train_test_split(\n",
    "        sentences, pos_tags, labels, test_size=0.2, random_state=42\n",
    "    )\n",
    "    return X_train, X_test, pos_train, pos_test, y_train, y_test\n",
    "\n",
    "# Build the model\n",
    "def build_model(input_dim, pos_dim, output_dim):\n",
    "    model = tf.keras.Sequential([\n",
    "        layers.Embedding(input_dim=input_dim, output_dim=64),\n",
    "        layers.LSTM(128, return_sequences=True),\n",
    "        layers.Dropout(0.5),\n",
    "        layers.TimeDistributed(layers.Dense(64, activation='relu')),\n",
    "        layers.Flatten(),\n",
    "        layers.Dense(32, activation='relu'),\n",
    "        layers.Dense(output_dim, activation='softmax')\n",
    "    ])\n",
    "\n",
    "    model.compile(optimizer='adam', loss='categorical_crossentropy', metrics=['accuracy'])\n",
    "    return model\n",
    "\n",
    "# Load and preprocess data\n",
    "sentences, labels = load_conll_data()\n",
    "tokenized_sentences, encoded_pos_tags, one_hot_labels = preprocess_data(sentences, labels)\n",
    "\n",
    "# Split the data\n",
    "X_train, X_test, pos_train, pos_test, y_train, y_test = split_data(\n",
    "    tokenized_sentences, encoded_pos_tags, one_hot_labels\n",
    ")\n",
    "\n",
    "# Build the model\n",
    "input_dim = 1000  # Choose an appropriate vocabulary size based on your dataset\n",
    "pos_dim = len(set([pos for sublist in encoded_pos_tags for pos in sublist]))\n",
    "output_dim = len(set([label for sublist in labels for label in sublist]))\n",
    "\n",
    "model = build_model(input_dim, pos_dim, output_dim)\n",
    "\n",
    "# Train the model\n",
    "model.fit([X_train, pos_train], y_train, epochs=5, batch_size=32, validation_split=0.2)\n",
    "\n",
    "# Evaluate the model\n",
    "evaluation = model.evaluate([X_test, pos_test], y_test)\n",
    "print(\"Test Accuracy:\", evaluation[1])\n"
   ]
  }
 ],
 "metadata": {
  "kernelspec": {
   "display_name": "Python 3 (ipykernel)",
   "language": "python",
   "name": "python3"
  },
  "language_info": {
   "codemirror_mode": {
    "name": "ipython",
    "version": 3
   },
   "file_extension": ".py",
   "mimetype": "text/x-python",
   "name": "python",
   "nbconvert_exporter": "python",
   "pygments_lexer": "ipython3",
   "version": "3.9.13"
  }
 },
 "nbformat": 4,
 "nbformat_minor": 4
}
